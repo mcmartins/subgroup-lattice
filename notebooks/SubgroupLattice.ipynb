{
 "cells": [
  {
   "cell_type": "markdown",
   "metadata": {},
   "source": [
    "# Subgroup Lattice\n",
    "\n",
    "This notebook shows the usage of the Subgroup Lattice implementation using Francy."
   ]
  },
  {
   "cell_type": "code",
   "execution_count": 20,
   "metadata": {},
   "outputs": [
    {
     "data": {
      "text/plain": [
       "true"
      ]
     },
     "execution_count": 20,
     "metadata": {
      "text/plain": ""
     },
     "output_type": "execute_result"
    }
   ],
   "source": [
    " LoadPackage(\"subgrouplattice\");"
   ]
  },
  {
   "cell_type": "code",
   "execution_count": 23,
   "metadata": {},
   "outputs": [
    {
     "data": {
      "text/plain": [
       "d64"
      ]
     },
     "execution_count": 21,
     "metadata": {
      "text/plain": ""
     },
     "output_type": "execute_result"
    },
    {
     "data": {
      "application/vnd.francy+json": "{\"version\" : \"0.8.10\",\"mime\" : \"application\\/vnd.francy+json\",\"canvas\" : {\"width\" : 800,\"id\" : \"F108065\",\"height\" : 600,\"title\" : \"GraphicSubgroupLattice of d64\",\"zoomToFit\" : true,\"texTypesetting\" : false,\"menus\" : {\"F108107\" : {\"id\" : \"F108107\",\"title\" : \"Subgroup Lattice\",\"callback\" : {},\"menus\" : {\"F108109\" : {\"id\" : \"F108109\",\"title\" : \"All Subgroups\",\"callback\" : {\"func\" : \"unknown\",\"id\" : \"F108108\",\"trigger\" : \"click\",\"knownArgs\" : [\"<object>\",\"Group( [ f1, f2, f3, f4, f5, f6 ] )\"],\"requiredArgs\" : {}},\"menus\" : {}}}}},\"graph\" : {\"type\" : \"undirected\",\"id\" : \"F108067\",\"simulation\" : true,\"collapsed\" : true,\"drag\" : false,\"showNeighbours\" : false,\"nodes\" : {\"F108068\" : {\"x\" : 0,\"y\" : 0,\"type\" : \"diamond\",\"id\" : \"F108068\",\"size\" : 10,\"title\" : \"G\",\"color\" : \"\",\"layer\" : -4,\"parent\" : \"\",\"selected\" : true,\"menus\" : {\"F108070\" : {\"id\" : \"F108070\",\"title\" : \"Size\",\"callback\" : {\"func\" : \"unknown\",\"id\" : \"F108069\",\"trigger\" : \"click\",\"knownArgs\" : [\"<object>\",\"Group( [ f6, f5, f4, f3, f1, f2 ] )\"],\"requiredArgs\" : {}},\"menus\" : {}},\"F108072\" : {\"id\" : \"F108072\",\"title\" : \"IsAbelian\",\"callback\" : {\"func\" : \"unknown\",\"id\" : \"F108071\",\"trigger\" : \"click\",\"knownArgs\" : [\"<object>\",\"Group( [ f6, f5, f4, f3, f1, f2 ] )\"],\"requiredArgs\" : {}},\"menus\" : {}},\"F108074\" : {\"id\" : \"F108074\",\"title\" : \"IsCyclic\",\"callback\" : {\"func\" : \"unknown\",\"id\" : \"F108073\",\"trigger\" : \"click\",\"knownArgs\" : [\"<object>\",\"Group( [ f6, f5, f4, f3, f1, f2 ] )\"],\"requiredArgs\" : {}},\"menus\" : {}},\"F108076\" : {\"id\" : \"F108076\",\"title\" : \"IsNilpotent\",\"callback\" : {\"func\" : \"unknown\",\"id\" : \"F108075\",\"trigger\" : \"click\",\"knownArgs\" : [\"<object>\",\"Group( [ f6, f5, f4, f3, f1, f2 ] )\"],\"requiredArgs\" : {}},\"menus\" : {}},\"F108078\" : {\"id\" : \"F108078\",\"title\" : \"IsNormal\",\"callback\" : {\"func\" : \"unknown\",\"id\" : \"F108077\",\"trigger\" : \"click\",\"knownArgs\" : [\"<object>\",\"Group( [ f6, f5, f4, f3, f1, f2 ] )\",\"Group( [ f1, f2, f3, f4, f5, f6 ] )\"],\"requiredArgs\" : {}},\"menus\" : {}},\"F108080\" : {\"id\" : \"F108080\",\"title\" : \"IsPerfect\",\"callback\" : {\"func\" : \"unknown\",\"id\" : \"F108079\",\"trigger\" : \"click\",\"knownArgs\" : [\"<object>\",\"Group( [ f6, f5, f4, f3, f1, f2 ] )\"],\"requiredArgs\" : {}},\"menus\" : {}},\"F108082\" : {\"id\" : \"F108082\",\"title\" : \"IsSimple\",\"callback\" : {\"func\" : \"unknown\",\"id\" : \"F108081\",\"trigger\" : \"click\",\"knownArgs\" : [\"<object>\",\"Group( [ f6, f5, f4, f3, f1, f2 ] )\"],\"requiredArgs\" : {}},\"menus\" : {}},\"F108084\" : {\"id\" : \"F108084\",\"title\" : \"IsSolvable\",\"callback\" : {\"func\" : \"unknown\",\"id\" : \"F108083\",\"trigger\" : \"click\",\"knownArgs\" : [\"<object>\",\"Group( [ f6, f5, f4, f3, f1, f2 ] )\"],\"requiredArgs\" : {}},\"menus\" : {}},\"F108086\" : {\"id\" : \"F108086\",\"title\" : \"Isomorphism\",\"callback\" : {\"func\" : \"unknown\",\"id\" : \"F108085\",\"trigger\" : \"click\",\"knownArgs\" : [\"<object>\",\"Group( [ f6, f5, f4, f3, f1, f2 ] )\"],\"requiredArgs\" : {}},\"menus\" : {}}},\"messages\" : {},\"callbacks\" : {}},\"F108087\" : {\"x\" : 0,\"y\" : 0,\"type\" : \"diamond\",\"id\" : \"F108087\",\"size\" : 10,\"title\" : \"1\",\"color\" : \"\",\"layer\" : 0,\"parent\" : \"\",\"menus\" : {\"F108089\" : {\"id\" : \"F108089\",\"title\" : \"Size\",\"callback\" : {\"func\" : \"unknown\",\"id\" : \"F108088\",\"trigger\" : \"click\",\"knownArgs\" : [\"<object>\",\"Group( <identity> of ... )\"],\"requiredArgs\" : {}},\"menus\" : {}},\"F108091\" : {\"id\" : \"F108091\",\"title\" : \"IsAbelian\",\"callback\" : {\"func\" : \"unknown\",\"id\" : \"F108090\",\"trigger\" : \"click\",\"knownArgs\" : [\"<object>\",\"Group( <identity> of ... )\"],\"requiredArgs\" : {}},\"menus\" : {}},\"F108093\" : {\"id\" : \"F108093\",\"title\" : \"IsCyclic\",\"callback\" : {\"func\" : \"unknown\",\"id\" : \"F108092\",\"trigger\" : \"click\",\"knownArgs\" : [\"<object>\",\"Group( <identity> of ... )\"],\"requiredArgs\" : {}},\"menus\" : {}},\"F108095\" : {\"id\" : \"F108095\",\"title\" : \"IsNilpotent\",\"callback\" : {\"func\" : \"unknown\",\"id\" : \"F108094\",\"trigger\" : \"click\",\"knownArgs\" : [\"<object>\",\"Group( <identity> of ... )\"],\"requiredArgs\" : {}},\"menus\" : {}},\"F108097\" : {\"id\" : \"F108097\",\"title\" : \"IsNormal\",\"callback\" : {\"func\" : \"unknown\",\"id\" : \"F108096\",\"trigger\" : \"click\",\"knownArgs\" : [\"<object>\",\"Group( <identity> of ... )\",\"Group( [ f1, f2, f3, f4, f5, f6 ] )\"],\"requiredArgs\" : {}},\"menus\" : {}},\"F108099\" : {\"id\" : \"F108099\",\"title\" : \"IsPerfect\",\"callback\" : {\"func\" : \"unknown\",\"id\" : \"F108098\",\"trigger\" : \"click\",\"knownArgs\" : [\"<object>\",\"Group( <identity> of ... )\"],\"requiredArgs\" : {}},\"menus\" : {}},\"F108101\" : {\"id\" : \"F108101\",\"title\" : \"IsSimple\",\"callback\" : {\"func\" : \"unknown\",\"id\" : \"F108100\",\"trigger\" : \"click\",\"knownArgs\" : [\"<object>\",\"Group( <identity> of ... )\"],\"requiredArgs\" : {}},\"menus\" : {}},\"F108103\" : {\"id\" : \"F108103\",\"title\" : \"IsSolvable\",\"callback\" : {\"func\" : \"unknown\",\"id\" : \"F108102\",\"trigger\" : \"click\",\"knownArgs\" : [\"<object>\",\"Group( <identity> of ... )\"],\"requiredArgs\" : {}},\"menus\" : {}},\"F108105\" : {\"id\" : \"F108105\",\"title\" : \"Isomorphism\",\"callback\" : {\"func\" : \"unknown\",\"id\" : \"F108104\",\"trigger\" : \"click\",\"knownArgs\" : [\"<object>\",\"Group( <identity> of ... )\"],\"requiredArgs\" : {}},\"menus\" : {}}},\"messages\" : {},\"callbacks\" : {}}},\"links\" : {\"F108106\" : {\"id\" : \"F108106\",\"source\" : \"F108087\",\"length\" : 0,\"weight\" : 2,\"color\" : \"\",\"invisible\" : false,\"target\" : \"F108068\"}}},\"messages\" : {\"F108066\" : {\"type\" : \"default\",\"id\" : \"F108066\",\"text\" : \"There are 7 levels in this Group.\",\"title\" : \"\"}},\"latticeType\" : {\"menus\" : [\"rec( func := function ( poset, G ) local L, cls, len, sz, graphHasse, max, rep, z, t, i, j, k, nodes, last, knownArgs, m, cb, link; L := LatticeSubgroups( G ); cls := ConjugacyClassesSubgroups( L ); len := [ ]; sz := [ ]; for i in cls do Add( len, Size( i ) ); AddSet( sz, Size( Representative( i ) ) ); od; graphHasse := poset!.graph; UnsetNodes( graphHasse ); UnsetLinks( graphHasse ); nodes := [ ]; sz := Reversed( sz ); for i in [ 1 .. Length( cls ) ] do nodes[i] := [ ]; for j in [ 1 .. len[i] ] do if len[i] = 1 then nodes[i][j] := Shape( ShapeType.DIAMOND, String( i ) ); else nodes[i][j] := Shape( ShapeType.CIRCLE, String( i ) ); fi; SetLayer( nodes[i][j], - Size( Representative( cls[i] ) ) ); for m in poset!.latticeType.contextMenus do knownArgs := [ poset, Representative( cls[i] ) ]; if m.group = true then Add( knownArgs, G ); fi; cb := Callback( m.func, knownArgs ); Add( nodes[i][j], Menu( m.name, cb ) ); od; if i = Length( cls ) and j = len[i] then SetTitle( nodes[i][j], \\\"G\\\" ); fi; SetConjugateId( nodes[i][j], i ); Add( graphHasse, nodes[i][j] ); od; od; last := rec( o := 0, n := 0 ); for i in [ 1 .. Length( cls ) ] do for j in [ 1 .. len[i] ] do if Layer( nodes[i][j] ) <> last.o then last.o := Layer( nodes[i][j] ); last.n := last.n - 2; fi; SetLayer( nodes[i][j], last.n ); od; od; max := MaximalSubgroupsLattice( L ); for i in [ 1 .. Length( cls ) ] do for j in max[i] do rep := ClassElementLattice( cls[i], 1 ); for k in [ 1 .. len[i] ] do if k = 1 then z := j[2]; else t := cls[i]!.normalizerTransversal[k]; z := ClassElementLattice( cls[j[1]], 1 ); z := cls[j[1]]!.normalizerTransversal[j[2]] * t; z := PositionCanonical( cls[j[1]]!.normalizerTransversal, z ); fi; Add( graphHasse, Link( nodes[j[1]][z], nodes[i][k] ) ); od; od; od; return Draw( poset ); end, group := true, multiple := false, name := \\\"All Subgroups\\\" )\"],\"contextMenus\" : [\"rec( func := function ( poset, n ) local message; message := FrancyMessage( FrancyMessageType.INFO, \\\"Size\\\", String( Size( n ) ) ); Add( poset, message ); return Draw( poset ); end, group := false, name := \\\"Size\\\" )\",\"rec( func := function ( poset, n ) local message; message := FrancyMessage( FrancyMessageType.INFO, \\\"Is commutative?\\\", String( IsCommutative( n ) ) ); Add( poset, message ); return Draw( poset ); end, group := false, name := \\\"IsAbelian\\\" )\",\"rec( func := function ( poset, n ) local message; message := FrancyMessage( FrancyMessageType.INFO, \\\"Is cyclic?\\\", String( IsCyclic( n ) ) ); Add( poset, message ); return Draw( poset ); end, group := false, name := \\\"IsCyclic\\\" )\",\"rec( func := function ( poset, n ) local message; message := FrancyMessage( FrancyMessageType.INFO, \\\"Is NilpotentGroup?\\\", String( IsNilpotentGroup( n ) ) ); Add( poset, message ); return Draw( poset ); end, group := false, name := \\\"IsNilpotent\\\" )\",\"rec( func := function ( poset, n ) local message; message := FrancyMessage( FrancyMessageType.INFO, \\\"Is normal?\\\", String( IsNormal( n ) ) ); Add( poset, message ); return Draw( poset ); end, group := true, name := \\\"IsNormal\\\" )\",\"rec( func := function ( poset, n ) local message; message := FrancyMessage( FrancyMessageType.INFO, \\\"Is perfect group?\\\", String( IsPerfectGroup( n ) ) ); Add( poset, message ); return Draw( poset ); end, group := false, name := \\\"IsPerfect\\\" )\",\"rec( func := function ( poset, n ) local message; message := FrancyMessage( FrancyMessageType.INFO, \\\"Is simple group?\\\", String( IsSimpleGroup( n ) ) ); Add( poset, message ); return Draw( poset ); end, group := false, name := \\\"IsSimple\\\" )\",\"rec( func := function ( poset, n ) local message; message := FrancyMessage( FrancyMessageType.INFO, \\\"Is solvable group?\\\", String( IsSolvableGroup( n ) ) ); Add( poset, message ); return Draw( poset ); end, group := false, name := \\\"IsSolvable\\\" )\",\"rec( func := function ( poset, n ) local message; message := FrancyMessage( FrancyMessageType.INFO, \\\"Isomorphism\\\", String( IdGroup( n ) ) ); Add( poset, message ); return Draw( poset ); end, group := false, name := \\\"Isomorphism\\\" )\"],\"knowsLevels\" : true,\"trivial\" : true,\"hasse\" : true,\"canCompare\" : true}}}"
     },
     "execution_count": 23,
     "metadata": {
      "application/vnd.francy+json": {}
     },
     "output_type": "execute_result"
    }
   ],
   "source": [
    "d64 := DihedralGroup(64);\n",
    "SetName(d64, \"d64\");\n",
    "GraphicSubgroupLattice(d64);"
   ]
  },
  {
   "cell_type": "code",
   "execution_count": 26,
   "metadata": {},
   "outputs": [
    {
     "data": {
      "text/plain": [
       "S5"
      ]
     },
     "execution_count": 24,
     "metadata": {
      "text/plain": ""
     },
     "output_type": "execute_result"
    },
    {
     "data": {
      "application/vnd.francy+json": "{\"version\" : \"0.8.10\",\"mime\" : \"application\\/vnd.francy+json\",\"canvas\" : {\"width\" : 800,\"id\" : \"F108110\",\"height\" : 600,\"title\" : \"GraphicSubgroupLattice of S5\",\"zoomToFit\" : true,\"texTypesetting\" : false,\"menus\" : {\"F108152\" : {\"id\" : \"F108152\",\"title\" : \"Subgroup Lattice\",\"callback\" : {},\"menus\" : {\"F108154\" : {\"id\" : \"F108154\",\"title\" : \"All Subgroups\",\"callback\" : {\"func\" : \"unknown\",\"id\" : \"F108153\",\"trigger\" : \"click\",\"knownArgs\" : [\"<object>\",\"SymmetricGroup( [ 1 .. 5 ] )\"],\"requiredArgs\" : {}},\"menus\" : {}}}}},\"graph\" : {\"type\" : \"undirected\",\"id\" : \"F108112\",\"simulation\" : true,\"collapsed\" : true,\"drag\" : false,\"showNeighbours\" : false,\"nodes\" : {\"F108113\" : {\"x\" : 0,\"y\" : 0,\"type\" : \"diamond\",\"id\" : \"F108113\",\"size\" : 10,\"title\" : \"G\",\"color\" : \"\",\"layer\" : -4,\"parent\" : \"\",\"selected\" : true,\"menus\" : {\"F108115\" : {\"id\" : \"F108115\",\"title\" : \"Size\",\"callback\" : {\"func\" : \"unknown\",\"id\" : \"F108114\",\"trigger\" : \"click\",\"knownArgs\" : [\"<object>\",\"SymmetricGroup( [ 1 .. 5 ] )\"],\"requiredArgs\" : {}},\"menus\" : {}},\"F108117\" : {\"id\" : \"F108117\",\"title\" : \"IsAbelian\",\"callback\" : {\"func\" : \"unknown\",\"id\" : \"F108116\",\"trigger\" : \"click\",\"knownArgs\" : [\"<object>\",\"SymmetricGroup( [ 1 .. 5 ] )\"],\"requiredArgs\" : {}},\"menus\" : {}},\"F108119\" : {\"id\" : \"F108119\",\"title\" : \"IsCyclic\",\"callback\" : {\"func\" : \"unknown\",\"id\" : \"F108118\",\"trigger\" : \"click\",\"knownArgs\" : [\"<object>\",\"SymmetricGroup( [ 1 .. 5 ] )\"],\"requiredArgs\" : {}},\"menus\" : {}},\"F108121\" : {\"id\" : \"F108121\",\"title\" : \"IsNilpotent\",\"callback\" : {\"func\" : \"unknown\",\"id\" : \"F108120\",\"trigger\" : \"click\",\"knownArgs\" : [\"<object>\",\"SymmetricGroup( [ 1 .. 5 ] )\"],\"requiredArgs\" : {}},\"menus\" : {}},\"F108123\" : {\"id\" : \"F108123\",\"title\" : \"IsNormal\",\"callback\" : {\"func\" : \"unknown\",\"id\" : \"F108122\",\"trigger\" : \"click\",\"knownArgs\" : [\"<object>\",\"SymmetricGroup( [ 1 .. 5 ] )\",\"SymmetricGroup( [ 1 .. 5 ] )\"],\"requiredArgs\" : {}},\"menus\" : {}},\"F108125\" : {\"id\" : \"F108125\",\"title\" : \"IsPerfect\",\"callback\" : {\"func\" : \"unknown\",\"id\" : \"F108124\",\"trigger\" : \"click\",\"knownArgs\" : [\"<object>\",\"SymmetricGroup( [ 1 .. 5 ] )\"],\"requiredArgs\" : {}},\"menus\" : {}},\"F108127\" : {\"id\" : \"F108127\",\"title\" : \"IsSimple\",\"callback\" : {\"func\" : \"unknown\",\"id\" : \"F108126\",\"trigger\" : \"click\",\"knownArgs\" : [\"<object>\",\"SymmetricGroup( [ 1 .. 5 ] )\"],\"requiredArgs\" : {}},\"menus\" : {}},\"F108129\" : {\"id\" : \"F108129\",\"title\" : \"IsSolvable\",\"callback\" : {\"func\" : \"unknown\",\"id\" : \"F108128\",\"trigger\" : \"click\",\"knownArgs\" : [\"<object>\",\"SymmetricGroup( [ 1 .. 5 ] )\"],\"requiredArgs\" : {}},\"menus\" : {}},\"F108131\" : {\"id\" : \"F108131\",\"title\" : \"Isomorphism\",\"callback\" : {\"func\" : \"unknown\",\"id\" : \"F108130\",\"trigger\" : \"click\",\"knownArgs\" : [\"<object>\",\"SymmetricGroup( [ 1 .. 5 ] )\"],\"requiredArgs\" : {}},\"menus\" : {}}},\"messages\" : {},\"callbacks\" : {}},\"F108132\" : {\"x\" : 0,\"y\" : 0,\"type\" : \"diamond\",\"id\" : \"F108132\",\"size\" : 10,\"title\" : \"1\",\"color\" : \"\",\"layer\" : 0,\"parent\" : \"\",\"menus\" : {\"F108134\" : {\"id\" : \"F108134\",\"title\" : \"Size\",\"callback\" : {\"func\" : \"unknown\",\"id\" : \"F108133\",\"trigger\" : \"click\",\"knownArgs\" : [\"<object>\",\"Group( () )\"],\"requiredArgs\" : {}},\"menus\" : {}},\"F108136\" : {\"id\" : \"F108136\",\"title\" : \"IsAbelian\",\"callback\" : {\"func\" : \"unknown\",\"id\" : \"F108135\",\"trigger\" : \"click\",\"knownArgs\" : [\"<object>\",\"Group( () )\"],\"requiredArgs\" : {}},\"menus\" : {}},\"F108138\" : {\"id\" : \"F108138\",\"title\" : \"IsCyclic\",\"callback\" : {\"func\" : \"unknown\",\"id\" : \"F108137\",\"trigger\" : \"click\",\"knownArgs\" : [\"<object>\",\"Group( () )\"],\"requiredArgs\" : {}},\"menus\" : {}},\"F108140\" : {\"id\" : \"F108140\",\"title\" : \"IsNilpotent\",\"callback\" : {\"func\" : \"unknown\",\"id\" : \"F108139\",\"trigger\" : \"click\",\"knownArgs\" : [\"<object>\",\"Group( () )\"],\"requiredArgs\" : {}},\"menus\" : {}},\"F108142\" : {\"id\" : \"F108142\",\"title\" : \"IsNormal\",\"callback\" : {\"func\" : \"unknown\",\"id\" : \"F108141\",\"trigger\" : \"click\",\"knownArgs\" : [\"<object>\",\"Group( () )\",\"SymmetricGroup( [ 1 .. 5 ] )\"],\"requiredArgs\" : {}},\"menus\" : {}},\"F108144\" : {\"id\" : \"F108144\",\"title\" : \"IsPerfect\",\"callback\" : {\"func\" : \"unknown\",\"id\" : \"F108143\",\"trigger\" : \"click\",\"knownArgs\" : [\"<object>\",\"Group( () )\"],\"requiredArgs\" : {}},\"menus\" : {}},\"F108146\" : {\"id\" : \"F108146\",\"title\" : \"IsSimple\",\"callback\" : {\"func\" : \"unknown\",\"id\" : \"F108145\",\"trigger\" : \"click\",\"knownArgs\" : [\"<object>\",\"Group( () )\"],\"requiredArgs\" : {}},\"menus\" : {}},\"F108148\" : {\"id\" : \"F108148\",\"title\" : \"IsSolvable\",\"callback\" : {\"func\" : \"unknown\",\"id\" : \"F108147\",\"trigger\" : \"click\",\"knownArgs\" : [\"<object>\",\"Group( () )\"],\"requiredArgs\" : {}},\"menus\" : {}},\"F108150\" : {\"id\" : \"F108150\",\"title\" : \"Isomorphism\",\"callback\" : {\"func\" : \"unknown\",\"id\" : \"F108149\",\"trigger\" : \"click\",\"knownArgs\" : [\"<object>\",\"Group( () )\"],\"requiredArgs\" : {}},\"menus\" : {}}},\"messages\" : {},\"callbacks\" : {}}},\"links\" : {\"F108151\" : {\"id\" : \"F108151\",\"source\" : \"F108132\",\"length\" : 0,\"weight\" : 2,\"color\" : \"\",\"invisible\" : false,\"target\" : \"F108113\"}}},\"messages\" : {\"F108111\" : {\"type\" : \"default\",\"id\" : \"F108111\",\"text\" : \"There are 16 levels in this Group.\",\"title\" : \"\"}},\"latticeType\" : {\"menus\" : [\"rec( func := function ( poset, G ) local L, cls, len, sz, graphHasse, max, rep, z, t, i, j, k, nodes, last, knownArgs, m, cb, link; L := LatticeSubgroups( G ); cls := ConjugacyClassesSubgroups( L ); len := [ ]; sz := [ ]; for i in cls do Add( len, Size( i ) ); AddSet( sz, Size( Representative( i ) ) ); od; graphHasse := poset!.graph; UnsetNodes( graphHasse ); UnsetLinks( graphHasse ); nodes := [ ]; sz := Reversed( sz ); for i in [ 1 .. Length( cls ) ] do nodes[i] := [ ]; for j in [ 1 .. len[i] ] do if len[i] = 1 then nodes[i][j] := Shape( ShapeType.DIAMOND, String( i ) ); else nodes[i][j] := Shape( ShapeType.CIRCLE, String( i ) ); fi; SetLayer( nodes[i][j], - Size( Representative( cls[i] ) ) ); for m in poset!.latticeType.contextMenus do knownArgs := [ poset, Representative( cls[i] ) ]; if m.group = true then Add( knownArgs, G ); fi; cb := Callback( m.func, knownArgs ); Add( nodes[i][j], Menu( m.name, cb ) ); od; if i = Length( cls ) and j = len[i] then SetTitle( nodes[i][j], \\\"G\\\" ); fi; SetConjugateId( nodes[i][j], i ); Add( graphHasse, nodes[i][j] ); od; od; last := rec( o := 0, n := 0 ); for i in [ 1 .. Length( cls ) ] do for j in [ 1 .. len[i] ] do if Layer( nodes[i][j] ) <> last.o then last.o := Layer( nodes[i][j] ); last.n := last.n - 2; fi; SetLayer( nodes[i][j], last.n ); od; od; max := MaximalSubgroupsLattice( L ); for i in [ 1 .. Length( cls ) ] do for j in max[i] do rep := ClassElementLattice( cls[i], 1 ); for k in [ 1 .. len[i] ] do if k = 1 then z := j[2]; else t := cls[i]!.normalizerTransversal[k]; z := ClassElementLattice( cls[j[1]], 1 ); z := cls[j[1]]!.normalizerTransversal[j[2]] * t; z := PositionCanonical( cls[j[1]]!.normalizerTransversal, z ); fi; Add( graphHasse, Link( nodes[j[1]][z], nodes[i][k] ) ); od; od; od; return Draw( poset ); end, group := true, multiple := false, name := \\\"All Subgroups\\\" )\"],\"contextMenus\" : [\"rec( func := function ( poset, n ) local message; message := FrancyMessage( FrancyMessageType.INFO, \\\"Size\\\", String( Size( n ) ) ); Add( poset, message ); return Draw( poset ); end, group := false, name := \\\"Size\\\" )\",\"rec( func := function ( poset, n ) local message; message := FrancyMessage( FrancyMessageType.INFO, \\\"Is commutative?\\\", String( IsCommutative( n ) ) ); Add( poset, message ); return Draw( poset ); end, group := false, name := \\\"IsAbelian\\\" )\",\"rec( func := function ( poset, n ) local message; message := FrancyMessage( FrancyMessageType.INFO, \\\"Is cyclic?\\\", String( IsCyclic( n ) ) ); Add( poset, message ); return Draw( poset ); end, group := false, name := \\\"IsCyclic\\\" )\",\"rec( func := function ( poset, n ) local message; message := FrancyMessage( FrancyMessageType.INFO, \\\"Is NilpotentGroup?\\\", String( IsNilpotentGroup( n ) ) ); Add( poset, message ); return Draw( poset ); end, group := false, name := \\\"IsNilpotent\\\" )\",\"rec( func := function ( poset, n ) local message; message := FrancyMessage( FrancyMessageType.INFO, \\\"Is normal?\\\", String( IsNormal( n ) ) ); Add( poset, message ); return Draw( poset ); end, group := true, name := \\\"IsNormal\\\" )\",\"rec( func := function ( poset, n ) local message; message := FrancyMessage( FrancyMessageType.INFO, \\\"Is perfect group?\\\", String( IsPerfectGroup( n ) ) ); Add( poset, message ); return Draw( poset ); end, group := false, name := \\\"IsPerfect\\\" )\",\"rec( func := function ( poset, n ) local message; message := FrancyMessage( FrancyMessageType.INFO, \\\"Is simple group?\\\", String( IsSimpleGroup( n ) ) ); Add( poset, message ); return Draw( poset ); end, group := false, name := \\\"IsSimple\\\" )\",\"rec( func := function ( poset, n ) local message; message := FrancyMessage( FrancyMessageType.INFO, \\\"Is solvable group?\\\", String( IsSolvableGroup( n ) ) ); Add( poset, message ); return Draw( poset ); end, group := false, name := \\\"IsSolvable\\\" )\",\"rec( func := function ( poset, n ) local message; message := FrancyMessage( FrancyMessageType.INFO, \\\"Isomorphism\\\", String( IdGroup( n ) ) ); Add( poset, message ); return Draw( poset ); end, group := false, name := \\\"Isomorphism\\\" )\"],\"knowsLevels\" : true,\"trivial\" : true,\"hasse\" : true,\"canCompare\" : true}}}"
     },
     "execution_count": 26,
     "metadata": {
      "application/vnd.francy+json": {}
     },
     "output_type": "execute_result"
    }
   ],
   "source": [
    "s5 := SymmetricGroup(5);\n",
    "SetName(s5, \"S5\");\n",
    "GraphicSubgroupLattice(s5);"
   ]
  },
  {
   "cell_type": "code",
   "execution_count": null,
   "metadata": {},
   "outputs": [],
   "source": []
  }
 ],
 "metadata": {
  "kernelspec": {
   "display_name": "GAP 4",
   "language": "gap",
   "name": "gap-4"
  },
  "language_info": {
   "codemirror_mode": "gap",
   "file_extension": ".g",
   "mimetype": "text/x-gap",
   "name": "GAP 4",
   "nbconvert_exporter": "",
   "pygments_lexer": "gap",
   "version": "4.dev"
  }
 },
 "nbformat": 4,
 "nbformat_minor": 2
}
