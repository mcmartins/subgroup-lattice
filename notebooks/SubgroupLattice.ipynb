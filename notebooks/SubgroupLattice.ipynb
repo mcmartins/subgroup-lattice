{
 "cells": [
  {
   "cell_type": "markdown",
   "metadata": {},
   "source": [
    "# Subgroup Lattice\n",
    "\n",
    "This notebook shows the usage of the Subgroup Lattice implementation using Francy."
   ]
  },
  {
   "cell_type": "code",
   "execution_count": 1,
   "metadata": {},
   "outputs": [
    {
     "data": {
      "text/plain": [
       "true"
      ]
     },
     "execution_count": 1,
     "metadata": {
      "text/plain": ""
     },
     "output_type": "execute_result"
    }
   ],
   "source": [
    " LoadPackage(\"subgrouplattice\");"
   ]
  },
  {
   "cell_type": "code",
   "execution_count": 4,
   "metadata": {},
   "outputs": [
    {
     "data": {
      "text/plain": [
       "d44"
      ]
     },
     "execution_count": 2,
     "metadata": {
      "text/plain": ""
     },
     "output_type": "execute_result"
    },
    {
     "data": {
      "application/vnd.francy+json": "{\"version\" : \"0.8.0\",\"mime\" : \"application\\/vnd.francy+json\",\"canvas\" : {\"width\" : 800,\"id\" : \"F1\",\"height\" : 600,\"title\" : \"GraphicSubgroupLattice of d44\",\"zoomToFit\" : true,\"texTypesetting\" : false,\"menus\" : {\"F43\" : {\"id\" : \"F43\",\"title\" : \"Subgroup Lattice\",\"callback\" : {},\"menus\" : {\"F45\" : {\"id\" : \"F45\",\"title\" : \"All Subgroups\",\"callback\" : {\"func\" : \"unknown\",\"id\" : \"F44\",\"trigger\" : \"click\",\"knownArgs\" : [\"<object>\",\"Group( [ f1, f2, f3, f4, f5, f6 ] )\"],\"requiredArgs\" : {}},\"menus\" : {}}}}},\"graph\" : {\"type\" : \"undirected\",\"id\" : \"F3\",\"simulation\" : true,\"collapsed\" : true,\"drag\" : false,\"showNeighbours\" : false,\"nodes\" : {\"F4\" : {\"x\" : 0,\"y\" : 0,\"type\" : \"diamond\",\"id\" : \"F4\",\"size\" : 10,\"title\" : \"G\",\"color\" : \"\",\"highlight\" : true,\"layer\" : -4,\"parent\" : \"\",\"menus\" : {\"F6\" : {\"id\" : \"F6\",\"title\" : \"Size\",\"callback\" : {\"func\" : \"unknown\",\"id\" : \"F5\",\"trigger\" : \"click\",\"knownArgs\" : [\"<object>\",\"Group( [ f6, f5, f4, f3, f1, f2 ] )\"],\"requiredArgs\" : {}},\"menus\" : {}},\"F8\" : {\"id\" : \"F8\",\"title\" : \"IsAbelian\",\"callback\" : {\"func\" : \"unknown\",\"id\" : \"F7\",\"trigger\" : \"click\",\"knownArgs\" : [\"<object>\",\"Group( [ f6, f5, f4, f3, f1, f2 ] )\"],\"requiredArgs\" : {}},\"menus\" : {}},\"F10\" : {\"id\" : \"F10\",\"title\" : \"IsCyclic\",\"callback\" : {\"func\" : \"unknown\",\"id\" : \"F9\",\"trigger\" : \"click\",\"knownArgs\" : [\"<object>\",\"Group( [ f6, f5, f4, f3, f1, f2 ] )\"],\"requiredArgs\" : {}},\"menus\" : {}},\"F12\" : {\"id\" : \"F12\",\"title\" : \"IsNilpotent\",\"callback\" : {\"func\" : \"unknown\",\"id\" : \"F11\",\"trigger\" : \"click\",\"knownArgs\" : [\"<object>\",\"Group( [ f6, f5, f4, f3, f1, f2 ] )\"],\"requiredArgs\" : {}},\"menus\" : {}},\"F14\" : {\"id\" : \"F14\",\"title\" : \"IsNormal\",\"callback\" : {\"func\" : \"unknown\",\"id\" : \"F13\",\"trigger\" : \"click\",\"knownArgs\" : [\"<object>\",\"Group( [ f6, f5, f4, f3, f1, f2 ] )\",\"Group( [ f1, f2, f3, f4, f5, f6 ] )\"],\"requiredArgs\" : {}},\"menus\" : {}},\"F16\" : {\"id\" : \"F16\",\"title\" : \"IsPerfect\",\"callback\" : {\"func\" : \"unknown\",\"id\" : \"F15\",\"trigger\" : \"click\",\"knownArgs\" : [\"<object>\",\"Group( [ f6, f5, f4, f3, f1, f2 ] )\"],\"requiredArgs\" : {}},\"menus\" : {}},\"F18\" : {\"id\" : \"F18\",\"title\" : \"IsSimple\",\"callback\" : {\"func\" : \"unknown\",\"id\" : \"F17\",\"trigger\" : \"click\",\"knownArgs\" : [\"<object>\",\"Group( [ f6, f5, f4, f3, f1, f2 ] )\"],\"requiredArgs\" : {}},\"menus\" : {}},\"F20\" : {\"id\" : \"F20\",\"title\" : \"IsSolvable\",\"callback\" : {\"func\" : \"unknown\",\"id\" : \"F19\",\"trigger\" : \"click\",\"knownArgs\" : [\"<object>\",\"Group( [ f6, f5, f4, f3, f1, f2 ] )\"],\"requiredArgs\" : {}},\"menus\" : {}},\"F22\" : {\"id\" : \"F22\",\"title\" : \"Isomorphism\",\"callback\" : {\"func\" : \"unknown\",\"id\" : \"F21\",\"trigger\" : \"click\",\"knownArgs\" : [\"<object>\",\"Group( [ f6, f5, f4, f3, f1, f2 ] )\"],\"requiredArgs\" : {}},\"menus\" : {}}},\"messages\" : {},\"callbacks\" : {},\"selected\" : true},\"F23\" : {\"x\" : 0,\"y\" : 0,\"type\" : \"diamond\",\"id\" : \"F23\",\"size\" : 10,\"title\" : \"1\",\"color\" : \"\",\"highlight\" : true,\"layer\" : 0,\"parent\" : \"\",\"menus\" : {\"F25\" : {\"id\" : \"F25\",\"title\" : \"Size\",\"callback\" : {\"func\" : \"unknown\",\"id\" : \"F24\",\"trigger\" : \"click\",\"knownArgs\" : [\"<object>\",\"Group( <identity> of ... )\"],\"requiredArgs\" : {}},\"menus\" : {}},\"F27\" : {\"id\" : \"F27\",\"title\" : \"IsAbelian\",\"callback\" : {\"func\" : \"unknown\",\"id\" : \"F26\",\"trigger\" : \"click\",\"knownArgs\" : [\"<object>\",\"Group( <identity> of ... )\"],\"requiredArgs\" : {}},\"menus\" : {}},\"F29\" : {\"id\" : \"F29\",\"title\" : \"IsCyclic\",\"callback\" : {\"func\" : \"unknown\",\"id\" : \"F28\",\"trigger\" : \"click\",\"knownArgs\" : [\"<object>\",\"Group( <identity> of ... )\"],\"requiredArgs\" : {}},\"menus\" : {}},\"F31\" : {\"id\" : \"F31\",\"title\" : \"IsNilpotent\",\"callback\" : {\"func\" : \"unknown\",\"id\" : \"F30\",\"trigger\" : \"click\",\"knownArgs\" : [\"<object>\",\"Group( <identity> of ... )\"],\"requiredArgs\" : {}},\"menus\" : {}},\"F33\" : {\"id\" : \"F33\",\"title\" : \"IsNormal\",\"callback\" : {\"func\" : \"unknown\",\"id\" : \"F32\",\"trigger\" : \"click\",\"knownArgs\" : [\"<object>\",\"Group( <identity> of ... )\",\"Group( [ f1, f2, f3, f4, f5, f6 ] )\"],\"requiredArgs\" : {}},\"menus\" : {}},\"F35\" : {\"id\" : \"F35\",\"title\" : \"IsPerfect\",\"callback\" : {\"func\" : \"unknown\",\"id\" : \"F34\",\"trigger\" : \"click\",\"knownArgs\" : [\"<object>\",\"Group( <identity> of ... )\"],\"requiredArgs\" : {}},\"menus\" : {}},\"F37\" : {\"id\" : \"F37\",\"title\" : \"IsSimple\",\"callback\" : {\"func\" : \"unknown\",\"id\" : \"F36\",\"trigger\" : \"click\",\"knownArgs\" : [\"<object>\",\"Group( <identity> of ... )\"],\"requiredArgs\" : {}},\"menus\" : {}},\"F39\" : {\"id\" : \"F39\",\"title\" : \"IsSolvable\",\"callback\" : {\"func\" : \"unknown\",\"id\" : \"F38\",\"trigger\" : \"click\",\"knownArgs\" : [\"<object>\",\"Group( <identity> of ... )\"],\"requiredArgs\" : {}},\"menus\" : {}},\"F41\" : {\"id\" : \"F41\",\"title\" : \"Isomorphism\",\"callback\" : {\"func\" : \"unknown\",\"id\" : \"F40\",\"trigger\" : \"click\",\"knownArgs\" : [\"<object>\",\"Group( <identity> of ... )\"],\"requiredArgs\" : {}},\"menus\" : {}}},\"messages\" : {},\"callbacks\" : {}}},\"links\" : {\"F42\" : {\"id\" : \"F42\",\"source\" : \"F23\",\"weight\" : 1,\"color\" : \"\",\"target\" : \"F4\"}}},\"messages\" : {\"F2\" : {\"type\" : \"default\",\"id\" : \"F2\",\"text\" : \"There are 7 levels in this Group.\",\"title\" : \"\"}},\"latticeType\" : {\"menus\" : [\"rec( func := function ( poset, G ) local L, cls, len, sz, graphHasse, max, rep, z, t, i, j, k, nodes, last, knownArgs, m, cb; L := LatticeSubgroups( G ); cls := ConjugacyClassesSubgroups( L ); len := [ ]; sz := [ ]; for i in cls do Add( len, Size( i ) ); AddSet( sz, Size( Representative( i ) ) ); od; graphHasse := poset!.graph; graphHasse!.nodes := rec( ); graphHasse!.links := rec( ); nodes := [ ]; sz := Reversed( sz ); for i in [ 1 .. Length( cls ) ] do nodes[i] := [ ]; for j in [ 1 .. len[i] ] do if len[i] = 1 then nodes[i][j] := Shape( ShapeType.DIAMOND, String( i ) ); else nodes[i][j] := Shape( ShapeType.CIRCLE, String( i ) ); fi; SetLayer( nodes[i][j], - Size( Representative( cls[i] ) ) ); for m in poset!.latticeType.contextMenus do knownArgs := [ poset, Representative( cls[i] ) ]; if m.group = true then Add( knownArgs, G ); fi; cb := Callback( m.func, knownArgs ); Add( nodes[i][j], Menu( m.name, cb ) ); od; Add( graphHasse, nodes[i][j] ); od; od; Print( nodes[Length( cls )][len( Length( cls ) )] ); SetTitle( nodes[Length( cls )][len( Length( cls ) )], \\\"G\\\" ); last := rec( o := 0, n := 0 ); for i in [ 1 .. Length( cls ) ] do for j in [ 1 .. len[i] ] do if Layer( nodes[i][j] ) <> last.o then last.o := Layer( nodes[i][j] ); last.n := last.n - 2; fi; SetLayer( nodes[i][j], last.n ); od; od; max := MaximalSubgroupsLattice( L ); for i in [ 1 .. Length( cls ) ] do for j in max[i] do rep := ClassElementLattice( cls[i], 1 ); for k in [ 1 .. len[i] ] do if k = 1 then z := j[2]; else t := cls[i]!.normalizerTransversal[k]; z := ClassElementLattice( cls[j[1]], 1 ); z := cls[j[1]]!.normalizerTransversal[j[2]] * t; z := PositionCanonical( cls[j[1]]!.normalizerTransversal, z ); fi; Add( graphHasse, Link( nodes[i][k], nodes[j[1]][z] ) ); od; od; od; return Draw( poset ); end, group := true, multiple := false, name := \\\"All Subgroups\\\" )\"],\"contextMenus\" : [\"rec( func := function ( poset, n ) local message; message := FrancyMessage( FrancyMessageType.INFO, \\\"Size\\\", String( Size( n ) ) ); Add( poset, message ); return Draw( poset ); end, group := false, name := \\\"Size\\\" )\",\"rec( func := function ( poset, n ) local message; message := FrancyMessage( FrancyMessageType.INFO, \\\"Is commutative?\\\", String( IsCommutative( n ) ) ); Add( poset, message ); return Draw( poset ); end, group := false, name := \\\"IsAbelian\\\" )\",\"rec( func := function ( poset, n ) local message; message := FrancyMessage( FrancyMessageType.INFO, \\\"Is cyclic?\\\", String( IsCyclic( n ) ) ); Add( poset, message ); return Draw( poset ); end, group := false, name := \\\"IsCyclic\\\" )\",\"rec( func := function ( poset, n ) local message; message := FrancyMessage( FrancyMessageType.INFO, \\\"Is NilpotentGroup?\\\", String( IsNilpotentGroup( n ) ) ); Add( poset, message ); return Draw( poset ); end, group := false, name := \\\"IsNilpotent\\\" )\",\"rec( func := function ( poset, n ) local message; message := FrancyMessage( FrancyMessageType.INFO, \\\"Is normal?\\\", String( IsNormal( n ) ) ); Add( poset, message ); return Draw( poset ); end, group := true, name := \\\"IsNormal\\\" )\",\"rec( func := function ( poset, n ) local message; message := FrancyMessage( FrancyMessageType.INFO, \\\"Is perfect group?\\\", String( IsPerfectGroup( n ) ) ); Add( poset, message ); return Draw( poset ); end, group := false, name := \\\"IsPerfect\\\" )\",\"rec( func := function ( poset, n ) local message; message := FrancyMessage( FrancyMessageType.INFO, \\\"Is simple group?\\\", String( IsSimpleGroup( n ) ) ); Add( poset, message ); return Draw( poset ); end, group := false, name := \\\"IsSimple\\\" )\",\"rec( func := function ( poset, n ) local message; message := FrancyMessage( FrancyMessageType.INFO, \\\"Is solvable group?\\\", String( IsSolvableGroup( n ) ) ); Add( poset, message ); return Draw( poset ); end, group := false, name := \\\"IsSolvable\\\" )\",\"rec( func := function ( poset, n ) local message; message := FrancyMessage( FrancyMessageType.INFO, \\\"Isomorphism\\\", String( IdGroup( n ) ) ); Add( poset, message ); return Draw( poset ); end, group := false, name := \\\"Isomorphism\\\" )\"],\"knowsLevels\" : true,\"trivial\" : true,\"hasse\" : true,\"canCompare\" : true}}}"
     },
     "execution_count": 4,
     "metadata": {
      "application/vnd.francy+json": {}
     },
     "output_type": "execute_result"
    }
   ],
   "source": [
    "d44 := DihedralGroup(64);\n",
    "SetName(d44, \"d44\");\n",
    "GraphicSubgroupLattice(d44);"
   ]
  },
  {
   "cell_type": "code",
   "execution_count": 7,
   "metadata": {},
   "outputs": [
    {
     "data": {
      "text/plain": [
       "Sym( [ 1 .. 3 ] )"
      ]
     },
     "execution_count": 5,
     "metadata": {
      "text/plain": ""
     },
     "output_type": "execute_result"
    },
    {
     "data": {
      "application/vnd.francy+json": "{\"version\" : \"0.8.0\",\"mime\" : \"application\\/vnd.francy+json\",\"canvas\" : {\"width\" : 800,\"id\" : \"F46\",\"height\" : 600,\"title\" : \"GraphicSubgroupLattice\",\"zoomToFit\" : true,\"texTypesetting\" : false,\"menus\" : {\"F88\" : {\"id\" : \"F88\",\"title\" : \"Subgroup Lattice\",\"callback\" : {},\"menus\" : {\"F90\" : {\"id\" : \"F90\",\"title\" : \"All Subgroups\",\"callback\" : {\"func\" : \"unknown\",\"id\" : \"F89\",\"trigger\" : \"click\",\"knownArgs\" : [\"<object>\",\"SymmetricGroup( [ 1 .. 3 ] )\"],\"requiredArgs\" : {}},\"menus\" : {}}}}},\"graph\" : {\"type\" : \"undirected\",\"id\" : \"F48\",\"simulation\" : true,\"collapsed\" : true,\"drag\" : false,\"showNeighbours\" : false,\"nodes\" : {\"F49\" : {\"x\" : 0,\"y\" : 0,\"type\" : \"diamond\",\"id\" : \"F49\",\"size\" : 10,\"title\" : \"G\",\"color\" : \"\",\"highlight\" : true,\"layer\" : -4,\"parent\" : \"\",\"menus\" : {\"F51\" : {\"id\" : \"F51\",\"title\" : \"Size\",\"callback\" : {\"func\" : \"unknown\",\"id\" : \"F50\",\"trigger\" : \"click\",\"knownArgs\" : [\"<object>\",\"Group( [ (1,2,3), (2,3) ] )\"],\"requiredArgs\" : {}},\"menus\" : {}},\"F53\" : {\"id\" : \"F53\",\"title\" : \"IsAbelian\",\"callback\" : {\"func\" : \"unknown\",\"id\" : \"F52\",\"trigger\" : \"click\",\"knownArgs\" : [\"<object>\",\"Group( [ (1,2,3), (2,3) ] )\"],\"requiredArgs\" : {}},\"menus\" : {}},\"F55\" : {\"id\" : \"F55\",\"title\" : \"IsCyclic\",\"callback\" : {\"func\" : \"unknown\",\"id\" : \"F54\",\"trigger\" : \"click\",\"knownArgs\" : [\"<object>\",\"Group( [ (1,2,3), (2,3) ] )\"],\"requiredArgs\" : {}},\"menus\" : {}},\"F57\" : {\"id\" : \"F57\",\"title\" : \"IsNilpotent\",\"callback\" : {\"func\" : \"unknown\",\"id\" : \"F56\",\"trigger\" : \"click\",\"knownArgs\" : [\"<object>\",\"Group( [ (1,2,3), (2,3) ] )\"],\"requiredArgs\" : {}},\"menus\" : {}},\"F59\" : {\"id\" : \"F59\",\"title\" : \"IsNormal\",\"callback\" : {\"func\" : \"unknown\",\"id\" : \"F58\",\"trigger\" : \"click\",\"knownArgs\" : [\"<object>\",\"Group( [ (1,2,3), (2,3) ] )\",\"SymmetricGroup( [ 1 .. 3 ] )\"],\"requiredArgs\" : {}},\"menus\" : {}},\"F61\" : {\"id\" : \"F61\",\"title\" : \"IsPerfect\",\"callback\" : {\"func\" : \"unknown\",\"id\" : \"F60\",\"trigger\" : \"click\",\"knownArgs\" : [\"<object>\",\"Group( [ (1,2,3), (2,3) ] )\"],\"requiredArgs\" : {}},\"menus\" : {}},\"F63\" : {\"id\" : \"F63\",\"title\" : \"IsSimple\",\"callback\" : {\"func\" : \"unknown\",\"id\" : \"F62\",\"trigger\" : \"click\",\"knownArgs\" : [\"<object>\",\"Group( [ (1,2,3), (2,3) ] )\"],\"requiredArgs\" : {}},\"menus\" : {}},\"F65\" : {\"id\" : \"F65\",\"title\" : \"IsSolvable\",\"callback\" : {\"func\" : \"unknown\",\"id\" : \"F64\",\"trigger\" : \"click\",\"knownArgs\" : [\"<object>\",\"Group( [ (1,2,3), (2,3) ] )\"],\"requiredArgs\" : {}},\"menus\" : {}},\"F67\" : {\"id\" : \"F67\",\"title\" : \"Isomorphism\",\"callback\" : {\"func\" : \"unknown\",\"id\" : \"F66\",\"trigger\" : \"click\",\"knownArgs\" : [\"<object>\",\"Group( [ (1,2,3), (2,3) ] )\"],\"requiredArgs\" : {}},\"menus\" : {}}},\"messages\" : {},\"callbacks\" : {},\"selected\" : true},\"F68\" : {\"x\" : 0,\"y\" : 0,\"type\" : \"diamond\",\"id\" : \"F68\",\"size\" : 10,\"title\" : \"1\",\"color\" : \"\",\"highlight\" : true,\"layer\" : 0,\"parent\" : \"\",\"menus\" : {\"F70\" : {\"id\" : \"F70\",\"title\" : \"Size\",\"callback\" : {\"func\" : \"unknown\",\"id\" : \"F69\",\"trigger\" : \"click\",\"knownArgs\" : [\"<object>\",\"Group( () )\"],\"requiredArgs\" : {}},\"menus\" : {}},\"F72\" : {\"id\" : \"F72\",\"title\" : \"IsAbelian\",\"callback\" : {\"func\" : \"unknown\",\"id\" : \"F71\",\"trigger\" : \"click\",\"knownArgs\" : [\"<object>\",\"Group( () )\"],\"requiredArgs\" : {}},\"menus\" : {}},\"F74\" : {\"id\" : \"F74\",\"title\" : \"IsCyclic\",\"callback\" : {\"func\" : \"unknown\",\"id\" : \"F73\",\"trigger\" : \"click\",\"knownArgs\" : [\"<object>\",\"Group( () )\"],\"requiredArgs\" : {}},\"menus\" : {}},\"F76\" : {\"id\" : \"F76\",\"title\" : \"IsNilpotent\",\"callback\" : {\"func\" : \"unknown\",\"id\" : \"F75\",\"trigger\" : \"click\",\"knownArgs\" : [\"<object>\",\"Group( () )\"],\"requiredArgs\" : {}},\"menus\" : {}},\"F78\" : {\"id\" : \"F78\",\"title\" : \"IsNormal\",\"callback\" : {\"func\" : \"unknown\",\"id\" : \"F77\",\"trigger\" : \"click\",\"knownArgs\" : [\"<object>\",\"Group( () )\",\"SymmetricGroup( [ 1 .. 3 ] )\"],\"requiredArgs\" : {}},\"menus\" : {}},\"F80\" : {\"id\" : \"F80\",\"title\" : \"IsPerfect\",\"callback\" : {\"func\" : \"unknown\",\"id\" : \"F79\",\"trigger\" : \"click\",\"knownArgs\" : [\"<object>\",\"Group( () )\"],\"requiredArgs\" : {}},\"menus\" : {}},\"F82\" : {\"id\" : \"F82\",\"title\" : \"IsSimple\",\"callback\" : {\"func\" : \"unknown\",\"id\" : \"F81\",\"trigger\" : \"click\",\"knownArgs\" : [\"<object>\",\"Group( () )\"],\"requiredArgs\" : {}},\"menus\" : {}},\"F84\" : {\"id\" : \"F84\",\"title\" : \"IsSolvable\",\"callback\" : {\"func\" : \"unknown\",\"id\" : \"F83\",\"trigger\" : \"click\",\"knownArgs\" : [\"<object>\",\"Group( () )\"],\"requiredArgs\" : {}},\"menus\" : {}},\"F86\" : {\"id\" : \"F86\",\"title\" : \"Isomorphism\",\"callback\" : {\"func\" : \"unknown\",\"id\" : \"F85\",\"trigger\" : \"click\",\"knownArgs\" : [\"<object>\",\"Group( () )\"],\"requiredArgs\" : {}},\"menus\" : {}}},\"messages\" : {},\"callbacks\" : {}}},\"links\" : {\"F87\" : {\"id\" : \"F87\",\"source\" : \"F68\",\"weight\" : 1,\"color\" : \"\",\"target\" : \"F49\"}}},\"messages\" : {\"F47\" : {\"type\" : \"default\",\"id\" : \"F47\",\"text\" : \"There are 4 levels in this Group.\",\"title\" : \"\"}},\"latticeType\" : {\"menus\" : [\"rec( func := function ( poset, G ) local L, cls, len, sz, graphHasse, max, rep, z, t, i, j, k, nodes, last, knownArgs, m, cb; L := LatticeSubgroups( G ); cls := ConjugacyClassesSubgroups( L ); len := [ ]; sz := [ ]; for i in cls do Add( len, Size( i ) ); AddSet( sz, Size( Representative( i ) ) ); od; graphHasse := poset!.graph; graphHasse!.nodes := rec( ); graphHasse!.links := rec( ); nodes := [ ]; sz := Reversed( sz ); for i in [ 1 .. Length( cls ) ] do nodes[i] := [ ]; for j in [ 1 .. len[i] ] do if len[i] = 1 then nodes[i][j] := Shape( ShapeType.DIAMOND, String( i ) ); else nodes[i][j] := Shape( ShapeType.CIRCLE, String( i ) ); fi; SetLayer( nodes[i][j], - Size( Representative( cls[i] ) ) ); for m in poset!.latticeType.contextMenus do knownArgs := [ poset, Representative( cls[i] ) ]; if m.group = true then Add( knownArgs, G ); fi; cb := Callback( m.func, knownArgs ); Add( nodes[i][j], Menu( m.name, cb ) ); od; Add( graphHasse, nodes[i][j] ); od; od; Print( nodes[Length( cls )][len( Length( cls ) )] ); SetTitle( nodes[Length( cls )][len( Length( cls ) )], \\\"G\\\" ); last := rec( o := 0, n := 0 ); for i in [ 1 .. Length( cls ) ] do for j in [ 1 .. len[i] ] do if Layer( nodes[i][j] ) <> last.o then last.o := Layer( nodes[i][j] ); last.n := last.n - 2; fi; SetLayer( nodes[i][j], last.n ); od; od; max := MaximalSubgroupsLattice( L ); for i in [ 1 .. Length( cls ) ] do for j in max[i] do rep := ClassElementLattice( cls[i], 1 ); for k in [ 1 .. len[i] ] do if k = 1 then z := j[2]; else t := cls[i]!.normalizerTransversal[k]; z := ClassElementLattice( cls[j[1]], 1 ); z := cls[j[1]]!.normalizerTransversal[j[2]] * t; z := PositionCanonical( cls[j[1]]!.normalizerTransversal, z ); fi; Add( graphHasse, Link( nodes[i][k], nodes[j[1]][z] ) ); od; od; od; return Draw( poset ); end, group := true, multiple := false, name := \\\"All Subgroups\\\" )\"],\"contextMenus\" : [\"rec( func := function ( poset, n ) local message; message := FrancyMessage( FrancyMessageType.INFO, \\\"Size\\\", String( Size( n ) ) ); Add( poset, message ); return Draw( poset ); end, group := false, name := \\\"Size\\\" )\",\"rec( func := function ( poset, n ) local message; message := FrancyMessage( FrancyMessageType.INFO, \\\"Is commutative?\\\", String( IsCommutative( n ) ) ); Add( poset, message ); return Draw( poset ); end, group := false, name := \\\"IsAbelian\\\" )\",\"rec( func := function ( poset, n ) local message; message := FrancyMessage( FrancyMessageType.INFO, \\\"Is cyclic?\\\", String( IsCyclic( n ) ) ); Add( poset, message ); return Draw( poset ); end, group := false, name := \\\"IsCyclic\\\" )\",\"rec( func := function ( poset, n ) local message; message := FrancyMessage( FrancyMessageType.INFO, \\\"Is NilpotentGroup?\\\", String( IsNilpotentGroup( n ) ) ); Add( poset, message ); return Draw( poset ); end, group := false, name := \\\"IsNilpotent\\\" )\",\"rec( func := function ( poset, n ) local message; message := FrancyMessage( FrancyMessageType.INFO, \\\"Is normal?\\\", String( IsNormal( n ) ) ); Add( poset, message ); return Draw( poset ); end, group := true, name := \\\"IsNormal\\\" )\",\"rec( func := function ( poset, n ) local message; message := FrancyMessage( FrancyMessageType.INFO, \\\"Is perfect group?\\\", String( IsPerfectGroup( n ) ) ); Add( poset, message ); return Draw( poset ); end, group := false, name := \\\"IsPerfect\\\" )\",\"rec( func := function ( poset, n ) local message; message := FrancyMessage( FrancyMessageType.INFO, \\\"Is simple group?\\\", String( IsSimpleGroup( n ) ) ); Add( poset, message ); return Draw( poset ); end, group := false, name := \\\"IsSimple\\\" )\",\"rec( func := function ( poset, n ) local message; message := FrancyMessage( FrancyMessageType.INFO, \\\"Is solvable group?\\\", String( IsSolvableGroup( n ) ) ); Add( poset, message ); return Draw( poset ); end, group := false, name := \\\"IsSolvable\\\" )\",\"rec( func := function ( poset, n ) local message; message := FrancyMessage( FrancyMessageType.INFO, \\\"Isomorphism\\\", String( IdGroup( n ) ) ); Add( poset, message ); return Draw( poset ); end, group := false, name := \\\"Isomorphism\\\" )\"],\"knowsLevels\" : true,\"trivial\" : true,\"hasse\" : true,\"canCompare\" : true}}}"
     },
     "execution_count": 7,
     "metadata": {
      "application/vnd.francy+json": {}
     },
     "output_type": "execute_result"
    }
   ],
   "source": [
    "s3 := SymmetricGroup(3);\n",
    "SetName(d44, \"S3\");\n",
    "GraphicSubgroupLattice(s3);"
   ]
  },
  {
   "cell_type": "code",
   "execution_count": null,
   "metadata": {},
   "outputs": [],
   "source": []
  }
 ],
 "metadata": {
  "kernelspec": {
   "display_name": "GAP 4",
   "language": "gap",
   "name": "gap-4"
  },
  "language_info": {
   "codemirror_mode": "gap",
   "file_extension": ".g",
   "mimetype": "text/x-gap",
   "name": "GAP 4",
   "nbconvert_exporter": "",
   "pygments_lexer": "gap",
   "version": "4.dev"
  }
 },
 "nbformat": 4,
 "nbformat_minor": 2
}
