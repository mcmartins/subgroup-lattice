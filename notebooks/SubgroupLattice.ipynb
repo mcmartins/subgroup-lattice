{
 "cells": [
  {
   "cell_type": "markdown",
   "metadata": {},
   "source": [
    "# Subgroup Lattice\n",
    "\n",
    "This notebook shows the usage of the Subgroup Lattice implementation using Francy."
   ]
  },
  {
   "cell_type": "code",
   "execution_count": 8,
   "metadata": {},
   "outputs": [
    {
     "data": {
      "text/plain": [
       "true"
      ]
     },
     "execution_count": 8,
     "metadata": {
      "text/plain": ""
     },
     "output_type": "execute_result"
    }
   ],
   "source": [
    " LoadPackage(\"subgrouplattice\");"
   ]
  },
  {
   "cell_type": "code",
   "execution_count": 35,
   "metadata": {},
   "outputs": [
    {
     "data": {
      "text/plain": [
       "d44"
      ]
     },
     "execution_count": 33,
     "metadata": {
      "text/plain": ""
     },
     "output_type": "execute_result"
    },
    {
     "data": {
      "application/vnd.francy+json": "{\"version\" : \"0.8.0\",\"mime\" : \"application\\/vnd.francy+json\",\"canvas\" : {\"width\" : 800,\"id\" : \"F3543\",\"height\" : 600,\"title\" : \"GraphicSubgroupLattice of d44\",\"zoomToFit\" : true,\"texTypesetting\" : false,\"menus\" : {\"F3585\" : {\"id\" : \"F3585\",\"title\" : \"Subgroup Lattice\",\"callback\" : {},\"menus\" : {\"F3587\" : {\"id\" : \"F3587\",\"title\" : \"All Subgroups\",\"callback\" : {\"func\" : \"unknown\",\"id\" : \"F3586\",\"trigger\" : \"click\",\"knownArgs\" : [\"<object>\",\"Group( [ f1, f2, f3, f4, f5, f6 ] )\"],\"requiredArgs\" : {}},\"menus\" : {}}}}},\"graph\" : {\"type\" : \"undirected\",\"id\" : \"F3545\",\"simulation\" : true,\"collapsed\" : true,\"drag\" : false,\"showNeighbours\" : false,\"nodes\" : {\"Group( <identity> of ... )\" : {\"x\" : 0,\"y\" : 0,\"type\" : \"diamond\",\"id\" : \"Group( <identity> of ... )\",\"size\" : 10,\"title\" : \"1\",\"color\" : \"\",\"highlight\" : true,\"layer\" : 64,\"parent\" : \"\",\"menus\" : {\"F3567\" : {\"id\" : \"F3567\",\"title\" : \"Size\",\"callback\" : {\"func\" : \"unknown\",\"id\" : \"F3566\",\"trigger\" : \"click\",\"knownArgs\" : [\"<object>\",\"Group( <identity> of ... )\"],\"requiredArgs\" : {}},\"menus\" : {}},\"F3569\" : {\"id\" : \"F3569\",\"title\" : \"IsAbelian\",\"callback\" : {\"func\" : \"unknown\",\"id\" : \"F3568\",\"trigger\" : \"click\",\"knownArgs\" : [\"<object>\",\"Group( <identity> of ... )\"],\"requiredArgs\" : {}},\"menus\" : {}},\"F3571\" : {\"id\" : \"F3571\",\"title\" : \"IsCyclic\",\"callback\" : {\"func\" : \"unknown\",\"id\" : \"F3570\",\"trigger\" : \"click\",\"knownArgs\" : [\"<object>\",\"Group( <identity> of ... )\"],\"requiredArgs\" : {}},\"menus\" : {}},\"F3573\" : {\"id\" : \"F3573\",\"title\" : \"IsNilpotent\",\"callback\" : {\"func\" : \"unknown\",\"id\" : \"F3572\",\"trigger\" : \"click\",\"knownArgs\" : [\"<object>\",\"Group( <identity> of ... )\"],\"requiredArgs\" : {}},\"menus\" : {}},\"F3575\" : {\"id\" : \"F3575\",\"title\" : \"IsNormal\",\"callback\" : {\"func\" : \"unknown\",\"id\" : \"F3574\",\"trigger\" : \"click\",\"knownArgs\" : [\"<object>\",\"Group( <identity> of ... )\",\"Group( [ f1, f2, f3, f4, f5, f6 ] )\"],\"requiredArgs\" : {}},\"menus\" : {}},\"F3577\" : {\"id\" : \"F3577\",\"title\" : \"IsPerfect\",\"callback\" : {\"func\" : \"unknown\",\"id\" : \"F3576\",\"trigger\" : \"click\",\"knownArgs\" : [\"<object>\",\"Group( <identity> of ... )\"],\"requiredArgs\" : {}},\"menus\" : {}},\"F3579\" : {\"id\" : \"F3579\",\"title\" : \"IsSimple\",\"callback\" : {\"func\" : \"unknown\",\"id\" : \"F3578\",\"trigger\" : \"click\",\"knownArgs\" : [\"<object>\",\"Group( <identity> of ... )\"],\"requiredArgs\" : {}},\"menus\" : {}},\"F3581\" : {\"id\" : \"F3581\",\"title\" : \"IsSolvable\",\"callback\" : {\"func\" : \"unknown\",\"id\" : \"F3580\",\"trigger\" : \"click\",\"knownArgs\" : [\"<object>\",\"Group( <identity> of ... )\"],\"requiredArgs\" : {}},\"menus\" : {}},\"F3583\" : {\"id\" : \"F3583\",\"title\" : \"Isomorphism\",\"callback\" : {\"func\" : \"unknown\",\"id\" : \"F3582\",\"trigger\" : \"click\",\"knownArgs\" : [\"<object>\",\"Group( <identity> of ... )\"],\"requiredArgs\" : {}},\"menus\" : {}}},\"messages\" : {},\"callbacks\" : {}},\"Group( [ f6, f5, f4, f3, f1, f2 ] )\" : {\"x\" : 0,\"y\" : 0,\"type\" : \"diamond\",\"id\" : \"Group( [ f6, f5, f4, f3, f1, f2 ] )\",\"size\" : 10,\"title\" : \"G\",\"color\" : \"\",\"highlight\" : true,\"layer\" : 1,\"parent\" : \"\",\"menus\" : {\"F3548\" : {\"id\" : \"F3548\",\"title\" : \"Size\",\"callback\" : {\"func\" : \"unknown\",\"id\" : \"F3547\",\"trigger\" : \"click\",\"knownArgs\" : [\"<object>\",\"Group( [ f6, f5, f4, f3, f1, f2 ] )\"],\"requiredArgs\" : {}},\"menus\" : {}},\"F3550\" : {\"id\" : \"F3550\",\"title\" : \"IsAbelian\",\"callback\" : {\"func\" : \"unknown\",\"id\" : \"F3549\",\"trigger\" : \"click\",\"knownArgs\" : [\"<object>\",\"Group( [ f6, f5, f4, f3, f1, f2 ] )\"],\"requiredArgs\" : {}},\"menus\" : {}},\"F3552\" : {\"id\" : \"F3552\",\"title\" : \"IsCyclic\",\"callback\" : {\"func\" : \"unknown\",\"id\" : \"F3551\",\"trigger\" : \"click\",\"knownArgs\" : [\"<object>\",\"Group( [ f6, f5, f4, f3, f1, f2 ] )\"],\"requiredArgs\" : {}},\"menus\" : {}},\"F3554\" : {\"id\" : \"F3554\",\"title\" : \"IsNilpotent\",\"callback\" : {\"func\" : \"unknown\",\"id\" : \"F3553\",\"trigger\" : \"click\",\"knownArgs\" : [\"<object>\",\"Group( [ f6, f5, f4, f3, f1, f2 ] )\"],\"requiredArgs\" : {}},\"menus\" : {}},\"F3556\" : {\"id\" : \"F3556\",\"title\" : \"IsNormal\",\"callback\" : {\"func\" : \"unknown\",\"id\" : \"F3555\",\"trigger\" : \"click\",\"knownArgs\" : [\"<object>\",\"Group( [ f6, f5, f4, f3, f1, f2 ] )\",\"Group( [ f1, f2, f3, f4, f5, f6 ] )\"],\"requiredArgs\" : {}},\"menus\" : {}},\"F3558\" : {\"id\" : \"F3558\",\"title\" : \"IsPerfect\",\"callback\" : {\"func\" : \"unknown\",\"id\" : \"F3557\",\"trigger\" : \"click\",\"knownArgs\" : [\"<object>\",\"Group( [ f6, f5, f4, f3, f1, f2 ] )\"],\"requiredArgs\" : {}},\"menus\" : {}},\"F3560\" : {\"id\" : \"F3560\",\"title\" : \"IsSimple\",\"callback\" : {\"func\" : \"unknown\",\"id\" : \"F3559\",\"trigger\" : \"click\",\"knownArgs\" : [\"<object>\",\"Group( [ f6, f5, f4, f3, f1, f2 ] )\"],\"requiredArgs\" : {}},\"menus\" : {}},\"F3562\" : {\"id\" : \"F3562\",\"title\" : \"IsSolvable\",\"callback\" : {\"func\" : \"unknown\",\"id\" : \"F3561\",\"trigger\" : \"click\",\"knownArgs\" : [\"<object>\",\"Group( [ f6, f5, f4, f3, f1, f2 ] )\"],\"requiredArgs\" : {}},\"menus\" : {}},\"F3564\" : {\"id\" : \"F3564\",\"title\" : \"Isomorphism\",\"callback\" : {\"func\" : \"unknown\",\"id\" : \"F3563\",\"trigger\" : \"click\",\"knownArgs\" : [\"<object>\",\"Group( [ f6, f5, f4, f3, f1, f2 ] )\"],\"requiredArgs\" : {}},\"menus\" : {}}},\"messages\" : {},\"callbacks\" : {},\"selected\" : true}},\"links\" : {\"F3584\" : {\"id\" : \"F3584\",\"source\" : \"Group( <identity> of ... )\",\"weight\" : 1,\"color\" : \"\",\"target\" : \"Group( [ f6, f5, f4, f3, f1, f2 ] )\"}}},\"messages\" : {\"F3544\" : {\"type\" : \"default\",\"id\" : \"F3544\",\"text\" : \"There are 7 levels in this Group.\",\"title\" : \"\"}},\"latticeType\" : {\"menus\" : [\"rec( func := function ( poset, G ) local L, cls, len, sz, graphHasse, max, rep, z, t, i, j, k, nodes, last, knownArgs, m, cb; L := LatticeSubgroups( G ); cls := ConjugacyClassesSubgroups( L ); len := [ ]; sz := [ ]; for i in cls do Add( len, Size( i ) ); AddSet( sz, Size( Representative( i ) ) ); od; graphHasse := poset!.graph; nodes := [ ]; sz := Reversed( sz ); for i in [ 1 .. Length( cls ) ] do nodes[i] := [ ]; for j in [ 1 .. len[i] ] do if len[i] = 1 then nodes[i][j] := Shape( ShapeType.DIAMOND, String( i ) ); else nodes[i][j] := Shape( ShapeType.CIRCLE, String( i ) ); fi; SetLayer( nodes[i][j], - Size( Representative( cls[i] ) ) ); SetId( nodes[i][j], String( Representative( cls[i] ) ) ); for m in poset!.latticeType.contextMenus do knownArgs := [ poset, Representative( cls[i] ) ]; if m.group = true then Add( knownArgs, G ); fi; cb := Callback( m.func, knownArgs ); Add( nodes[i][j], Menu( m.name, cb ) ); od; Add( graphHasse, nodes[i][j] ); od; od; last := rec( o := 0, n := 0 ); for i in [ 1 .. Length( cls ) ] do for j in [ 1 .. len[i] ] do if Layer( nodes[i][j] ) <> last.o then last.o := Layer( nodes[i][j] ); last.n := last.n - 2; fi; SetLayer( nodes[i][j], last.n ); od; od; max := MaximalSubgroupsLattice( L ); for i in [ 1 .. Length( cls ) ] do for j in max[i] do rep := ClassElementLattice( cls[i], 1 ); for k in [ 1 .. len[i] ] do if k = 1 then z := j[2]; else t := cls[i]!.normalizerTransversal[k]; z := ClassElementLattice( cls[j[1]], 1 ); z := cls[j[1]]!.normalizerTransversal[j[2]] * t; z := PositionCanonical( cls[j[1]]!.normalizerTransversal, z ); fi; Add( graphHasse, Link( nodes[i][k], nodes[j[1]][z] ) ); od; od; od; Add( poset, graphHasse ); return Draw( poset ); end, group := true, multiple := false, name := \\\"All Subgroups\\\" )\"],\"contextMenus\" : [\"rec( func := function ( poset, n ) local message; message := FrancyMessage( FrancyMessageType.INFO, \\\"Size\\\", String( Size( n ) ) ); Add( poset, message ); return Draw( poset ); end, group := false, name := \\\"Size\\\" )\",\"rec( func := function ( poset, n ) local message; message := FrancyMessage( FrancyMessageType.INFO, \\\"Is commutative?\\\", String( IsCommutative( n ) ) ); Add( poset, message ); return Draw( poset ); end, group := false, name := \\\"IsAbelian\\\" )\",\"rec( func := function ( poset, n ) local message; message := FrancyMessage( FrancyMessageType.INFO, \\\"Is cyclic?\\\", String( IsCyclic( n ) ) ); Add( poset, message ); return Draw( poset ); end, group := false, name := \\\"IsCyclic\\\" )\",\"rec( func := function ( poset, n ) local message; message := FrancyMessage( FrancyMessageType.INFO, \\\"Is NilpotentGroup?\\\", String( IsNilpotentGroup( n ) ) ); Add( poset, message ); return Draw( poset ); end, group := false, name := \\\"IsNilpotent\\\" )\",\"rec( func := function ( poset, n ) local message; message := FrancyMessage( FrancyMessageType.INFO, \\\"Is normal?\\\", String( IsNormal( n ) ) ); Add( poset, message ); return Draw( poset ); end, group := true, name := \\\"IsNormal\\\" )\",\"rec( func := function ( poset, n ) local message; message := FrancyMessage( FrancyMessageType.INFO, \\\"Is perfect group?\\\", String( IsPerfectGroup( n ) ) ); Add( poset, message ); return Draw( poset ); end, group := false, name := \\\"IsPerfect\\\" )\",\"rec( func := function ( poset, n ) local message; message := FrancyMessage( FrancyMessageType.INFO, \\\"Is simple group?\\\", String( IsSimpleGroup( n ) ) ); Add( poset, message ); return Draw( poset ); end, group := false, name := \\\"IsSimple\\\" )\",\"rec( func := function ( poset, n ) local message; message := FrancyMessage( FrancyMessageType.INFO, \\\"Is solvable group?\\\", String( IsSolvableGroup( n ) ) ); Add( poset, message ); return Draw( poset ); end, group := false, name := \\\"IsSolvable\\\" )\",\"rec( func := function ( poset, n ) local message; message := FrancyMessage( FrancyMessageType.INFO, \\\"Isomorphism\\\", String( IdGroup( n ) ) ); Add( poset, message ); return Draw( poset ); end, group := false, name := \\\"Isomorphism\\\" )\"],\"knowsLevels\" : true,\"trivial\" : true,\"hasse\" : true,\"canCompare\" : true}}}"
     },
     "execution_count": 35,
     "metadata": {
      "application/vnd.francy+json": {}
     },
     "output_type": "execute_result"
    }
   ],
   "source": [
    "d44 := DihedralGroup(64);\n",
    "SetName(d44, \"d44\");\n",
    "GraphicSubgroupLattice(d44);"
   ]
  },
  {
   "cell_type": "code",
   "execution_count": null,
   "metadata": {},
   "outputs": [],
   "source": []
  }
 ],
 "metadata": {
  "kernelspec": {
   "display_name": "GAP 4",
   "language": "gap",
   "name": "gap-4"
  },
  "language_info": {
   "codemirror_mode": "gap",
   "file_extension": ".g",
   "mimetype": "text/x-gap",
   "name": "GAP 4",
   "nbconvert_exporter": "",
   "pygments_lexer": "gap",
   "version": "4.dev"
  }
 },
 "nbformat": 4,
 "nbformat_minor": 2
}
